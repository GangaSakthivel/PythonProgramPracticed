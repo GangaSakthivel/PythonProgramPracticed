{
 "cells": [
  {
   "cell_type": "markdown",
   "metadata": {
    "id": "yVE7L7dorP4H"
   },
   "source": [
    "<a id='1'></a><center> <h3 style=\"background-color:orange; color:white\" ><br>Python Basics<br></h3>"
   ]
  },
  {
   "cell_type": "code",
   "execution_count": null,
   "metadata": {},
   "outputs": [],
   "source": []
  },
  {
   "cell_type": "code",
   "execution_count": null,
   "metadata": {},
   "outputs": [],
   "source": []
  },
  {
   "cell_type": "code",
   "execution_count": 1,
   "metadata": {
    "colab": {
     "base_uri": "https://localhost:8080/"
    },
    "execution": {
     "iopub.execute_input": "2021-12-13T05:20:57.005459Z",
     "iopub.status.busy": "2021-12-13T05:20:57.005028Z",
     "iopub.status.idle": "2021-12-13T05:20:57.039904Z",
     "shell.execute_reply": "2021-12-13T05:20:57.038882Z",
     "shell.execute_reply.started": "2021-12-13T05:20:57.005334Z"
    },
    "id": "kOtDhbwWrP4I",
    "outputId": "9eb6735c-a4aa-4146-93ce-80536a6d77f6"
   },
   "outputs": [
    {
     "name": "stdout",
     "output_type": "stream",
     "text": [
      "Ganga Sakthivel\n"
     ]
    }
   ],
   "source": [
    "# What is your name! print your name! \n",
    "# Only use one print function\n",
    "print(\"Ganga Sakthivel\")\n"
   ]
  },
  {
   "cell_type": "markdown",
   "metadata": {
    "id": "kJxHTHrVrP4I"
   },
   "source": [
    "* `()` <= `Parentheses`\n",
    "* `''` <= `Single Quotes`\n",
    "* `\"\"` <= `Double Quotes`\n",
    "* `\\n` <= `New_line `\n",
    "* `#` <= `Used to comment inside code`"
   ]
  },
  {
   "cell_type": "code",
   "execution_count": 2,
   "metadata": {
    "execution": {
     "iopub.execute_input": "2021-12-13T05:40:01.121499Z",
     "iopub.status.busy": "2021-12-13T05:40:01.12116Z",
     "iopub.status.idle": "2021-12-13T05:40:01.126402Z",
     "shell.execute_reply": "2021-12-13T05:40:01.125708Z",
     "shell.execute_reply.started": "2021-12-13T05:40:01.121464Z"
    },
    "id": "hqiWhz6srP4K"
   },
   "outputs": [],
   "source": [
    "# define variables named as with values: mukesh=7, z=6, rohan=5, longitude=4\n",
    "mukesh = 7\n",
    "z = 6\n",
    "rohan = 5 \n",
    "longitude = 4"
   ]
  },
  {
   "cell_type": "code",
   "execution_count": 3,
   "metadata": {
    "colab": {
     "base_uri": "https://localhost:8080/"
    },
    "execution": {
     "iopub.execute_input": "2021-12-13T05:40:18.616711Z",
     "iopub.status.busy": "2021-12-13T05:40:18.615837Z",
     "iopub.status.idle": "2021-12-13T05:40:18.625081Z",
     "shell.execute_reply": "2021-12-13T05:40:18.624216Z",
     "shell.execute_reply.started": "2021-12-13T05:40:18.616672Z"
    },
    "id": "W77FFVIqrP4K",
    "outputId": "cf4ab741-3257-4600-b001-640f62879305"
   },
   "outputs": [
    {
     "name": "stdout",
     "output_type": "stream",
     "text": [
      "5\n"
     ]
    }
   ],
   "source": [
    "# print required variable\n",
    "# output - 5\n",
    "number = 5\n",
    "print(number)"
   ]
  },
  {
   "cell_type": "markdown",
   "metadata": {
    "id": "89kwQhu5rP4K"
   },
   "source": [
    "Variable Assignment:\n",
    "**`Variable_Name = Value`**\n",
    "\n",
    "Variables Naming Rules:\n",
    "* `Python is case-senstive` => x=5 is different from X=5 (one is lowe and other is upper case)\n",
    "* `var name can't start with special character except underscore(_)` => _X = 7 is `valid`, @X = 7 is `invalid`\n",
    "* `var name can't start with number` => 9X = 7 is `invalid`, X9 = 7 is `valid`\n",
    "* can't use `keywords` as a variable name\n",
    "    * "
   ]
  },
  {
   "cell_type": "markdown",
   "metadata": {
    "id": "hiYt4qiJrP4K"
   },
   "source": [
    "# **`Declaring a Variable`** <br>\n"
   ]
  },
  {
   "cell_type": "code",
   "execution_count": 4,
   "metadata": {
    "execution": {
     "iopub.execute_input": "2021-12-13T05:47:55.408175Z",
     "iopub.status.busy": "2021-12-13T05:47:55.407825Z",
     "iopub.status.idle": "2021-12-13T05:47:55.413447Z",
     "shell.execute_reply": "2021-12-13T05:47:55.412668Z",
     "shell.execute_reply.started": "2021-12-13T05:47:55.40814Z"
    },
    "id": "5pomjoc_rP4L"
   },
   "outputs": [],
   "source": [
    "# declare 4 variables with values as: ur_age 21,ur_weight 50.6, ur_first_name = 'Mukesh',ur_last_name = \"Manral\"\n",
    "ur_age = 21\n",
    "ur_weight = 50.6\n",
    "ur_first_name = 'Mukesh'\n",
    "ur_last_name = 'Manral'"
   ]
  },
  {
   "cell_type": "markdown",
   "metadata": {
    "id": "aD6_WvkKrP4L"
   },
   "source": [
    "# **`Data Type(Type of variable)`**"
   ]
  },
  {
   "cell_type": "markdown",
   "metadata": {
    "id": "snzoPkD3rP4L"
   },
   "source": [
    "| Name | Type | Description |\n",
    "| ---- | ---- | ----| \n",
    "|Integers | int | Integer number, like 34,-56 ...|\n",
    "|Float | float | Decimal number, like 3.4,-5.6 ...|\n",
    "|String| str | Ordered sequence of characters, like 'your name' |\n",
    "|Boolean |bool |Logical values indicating True or False only |"
   ]
  },
  {
   "cell_type": "code",
   "execution_count": 5,
   "metadata": {
    "colab": {
     "base_uri": "https://localhost:8080/"
    },
    "execution": {
     "iopub.execute_input": "2021-12-13T05:48:10.44207Z",
     "iopub.status.busy": "2021-12-13T05:48:10.441594Z",
     "iopub.status.idle": "2021-12-13T05:48:10.449074Z",
     "shell.execute_reply": "2021-12-13T05:48:10.448114Z",
     "shell.execute_reply.started": "2021-12-13T05:48:10.442018Z"
    },
    "id": "Bb_fmhaOrP4L",
    "outputId": "6bca97e1-0501-4cc3-fde2-7753f1ccbb1e"
   },
   "outputs": [
    {
     "name": "stdout",
     "output_type": "stream",
     "text": [
      "<class 'int'>\n",
      "<class 'float'>\n",
      "<class 'str'>\n",
      "<class 'str'>\n"
     ]
    }
   ],
   "source": [
    "# print type of ur_age,ur_weight,ur_first_name,ur_last_name variables\n",
    "print(type(ur_age))\n",
    "print(type(ur_weight))\n",
    "print(type(ur_first_name))\n",
    "print(type(ur_last_name))"
   ]
  },
  {
   "cell_type": "code",
   "execution_count": 6,
   "metadata": {
    "colab": {
     "base_uri": "https://localhost:8080/"
    },
    "execution": {
     "iopub.execute_input": "2021-12-13T05:49:37.869716Z",
     "iopub.status.busy": "2021-12-13T05:49:37.86939Z",
     "iopub.status.idle": "2021-12-13T05:49:37.875995Z",
     "shell.execute_reply": "2021-12-13T05:49:37.875066Z",
     "shell.execute_reply.started": "2021-12-13T05:49:37.869681Z"
    },
    "id": "iaADKqUwrP4L",
    "outputId": "b9ad6169-2218-45a0-aa88-dd710eafda97"
   },
   "outputs": [
    {
     "name": "stdout",
     "output_type": "stream",
     "text": [
      "21 50.6 Manral Mukesh\n"
     ]
    }
   ],
   "source": [
    "# print values of ur_age,ur_weight,ur_first_name,ur_last_name variables\n",
    "print(ur_age, ur_weight, ur_last_name, ur_first_name)"
   ]
  },
  {
   "cell_type": "code",
   "execution_count": 7,
   "metadata": {
    "colab": {
     "base_uri": "https://localhost:8080/"
    },
    "execution": {
     "iopub.execute_input": "2021-12-13T05:50:49.32591Z",
     "iopub.status.busy": "2021-12-13T05:50:49.325048Z",
     "iopub.status.idle": "2021-12-13T05:50:49.332343Z",
     "shell.execute_reply": "2021-12-13T05:50:49.331287Z",
     "shell.execute_reply.started": "2021-12-13T05:50:49.325858Z"
    },
    "id": "Hde3D2uQrP4L",
    "outputId": "c1a16b4e-14d9-402d-c994-a26d2bde4a50"
   },
   "outputs": [
    {
     "name": "stdout",
     "output_type": "stream",
     "text": [
      "True\n"
     ]
    }
   ],
   "source": [
    "# make 2 variables with values as: ur_first_name 'Mukesh',ur_last_name'Mukesh' \n",
    "\n",
    "# make a variable TrueOrFalse which will have comparison of variables ur_last_name == ur_first_name \n",
    "ur_first_name = 'Mukesh'\n",
    "ur_last_name = 'Mukesh'\n",
    "comparison = ur_last_name == ur_first_name\n",
    "print(comparison)"
   ]
  },
  {
   "cell_type": "code",
   "execution_count": null,
   "metadata": {},
   "outputs": [],
   "source": []
  },
  {
   "cell_type": "code",
   "execution_count": 8,
   "metadata": {
    "execution": {
     "iopub.execute_input": "2021-12-13T06:51:26.536827Z",
     "iopub.status.busy": "2021-12-13T06:51:26.536555Z",
     "iopub.status.idle": "2021-12-13T06:51:26.540484Z",
     "shell.execute_reply": "2021-12-13T06:51:26.539662Z",
     "shell.execute_reply.started": "2021-12-13T06:51:26.536795Z"
    },
    "id": "39JWxM7KrP4M"
   },
   "outputs": [
    {
     "name": "stdout",
     "output_type": "stream",
     "text": [
      "777\n"
     ]
    }
   ],
   "source": [
    "# define a variable name \"x\" and assign value 777 and print it\n",
    "x = 777\n",
    "print(x)"
   ]
  },
  {
   "cell_type": "markdown",
   "metadata": {
    "id": "QXnovK7lrP4M"
   },
   "source": [
    "* To view some data on screen, python have `print` function\n",
    "    * Using `print` function we can control view on output screen\n"
   ]
  },
  {
   "cell_type": "code",
   "execution_count": null,
   "metadata": {},
   "outputs": [],
   "source": []
  },
  {
   "cell_type": "markdown",
   "metadata": {
    "id": "4Wfm35b4rP4P"
   },
   "source": [
    "`Operators`: Symbols that represent mathematical or logical tasks \n",
    "\n",
    "Example:<br>\n",
    "`700` `+` `77`<br>\n",
    "* `+` <= Operator\n",
    "* `700` & `77` <= Operands\n"
   ]
  },
  {
   "cell_type": "code",
   "execution_count": 2,
   "metadata": {
    "execution": {
     "iopub.execute_input": "2021-12-13T11:16:12.878107Z",
     "iopub.status.busy": "2021-12-13T11:16:12.87742Z",
     "iopub.status.idle": "2021-12-13T11:16:12.88218Z",
     "shell.execute_reply": "2021-12-13T11:16:12.881502Z",
     "shell.execute_reply.started": "2021-12-13T11:16:12.878061Z"
    },
    "id": "9eHULNrarP4Q"
   },
   "outputs": [],
   "source": [
    "# Initialize variables [x,y,z,zz] with values \n",
    "## x as 7 =>int ,\n",
    "## y as 77 =>int, \n",
    "## z as 77.7 => float, \n",
    "## zz as 'Hi' => string\n",
    "x = int(7)\n",
    "y = int(77)\n",
    "z = float(77.7)\n",
    "zz = 'Hi'"
   ]
  },
  {
   "cell_type": "markdown",
   "metadata": {
    "id": "kMGlbyturP4Q"
   },
   "source": [
    "# **`Arithmetic Operators`**"
   ]
  },
  {
   "cell_type": "code",
   "execution_count": 3,
   "metadata": {
    "colab": {
     "base_uri": "https://localhost:8080/"
    },
    "execution": {
     "iopub.execute_input": "2021-12-13T11:16:16.831632Z",
     "iopub.status.busy": "2021-12-13T11:16:16.831361Z",
     "iopub.status.idle": "2021-12-13T11:16:16.837568Z",
     "shell.execute_reply": "2021-12-13T11:16:16.836727Z",
     "shell.execute_reply.started": "2021-12-13T11:16:16.831606Z"
    },
    "id": "_7X7ChdtrP4Q",
    "outputId": "1dbd8902-3386-49a7-b7ab-77cab5607148"
   },
   "outputs": [
    {
     "name": "stdout",
     "output_type": "stream",
     "text": [
      "84\n"
     ]
    }
   ],
   "source": [
    "# add x and z\n",
    "print(x + y)"
   ]
  },
  {
   "cell_type": "code",
   "execution_count": 4,
   "metadata": {
    "colab": {
     "base_uri": "https://localhost:8080/"
    },
    "execution": {
     "iopub.execute_input": "2021-12-13T11:16:30.203003Z",
     "iopub.status.busy": "2021-12-13T11:16:30.20271Z",
     "iopub.status.idle": "2021-12-13T11:16:30.208385Z",
     "shell.execute_reply": "2021-12-13T11:16:30.207581Z",
     "shell.execute_reply.started": "2021-12-13T11:16:30.20297Z"
    },
    "id": "VWA9vqXbrP4R",
    "outputId": "745699ba-9525-4db1-e9bf-73270a08ec54"
   },
   "outputs": [
    {
     "name": "stdout",
     "output_type": "stream",
     "text": [
      "0.7000000000000028\n"
     ]
    }
   ],
   "source": [
    "# subtract z and y\n",
    "print(z - y)"
   ]
  },
  {
   "cell_type": "code",
   "execution_count": 5,
   "metadata": {
    "colab": {
     "base_uri": "https://localhost:8080/"
    },
    "execution": {
     "iopub.execute_input": "2021-12-13T11:16:33.722854Z",
     "iopub.status.busy": "2021-12-13T11:16:33.722346Z",
     "iopub.status.idle": "2021-12-13T11:16:33.727832Z",
     "shell.execute_reply": "2021-12-13T11:16:33.726714Z",
     "shell.execute_reply.started": "2021-12-13T11:16:33.722819Z"
    },
    "id": "Xs-S0MhCrP4R",
    "outputId": "ee8c602f-13fd-4a63-d9b4-d93fe416f6b7"
   },
   "outputs": [
    {
     "name": "stdout",
     "output_type": "stream",
     "text": [
      "543.9\n"
     ]
    }
   ],
   "source": [
    "# Multiply x and z\n",
    "print(x * z)"
   ]
  },
  {
   "cell_type": "code",
   "execution_count": 7,
   "metadata": {
    "colab": {
     "base_uri": "https://localhost:8080/"
    },
    "execution": {
     "iopub.status.busy": "2021-12-11T05:18:03.351545Z",
     "iopub.status.idle": "2021-12-11T05:18:03.351958Z",
     "shell.execute_reply": "2021-12-11T05:18:03.351816Z",
     "shell.execute_reply.started": "2021-12-11T05:18:03.3518Z"
    },
    "id": "QTAL9jikrP4R",
    "outputId": "27632a7c-1571-4fc3-fb53-40b5804319b6"
   },
   "outputs": [
    {
     "name": "stdout",
     "output_type": "stream",
     "text": [
      "17098071607986.627\n"
     ]
    }
   ],
   "source": [
    "# Exponent (raise the power or times) x times z\n",
    "print(z ** x)"
   ]
  },
  {
   "cell_type": "code",
   "execution_count": 8,
   "metadata": {
    "colab": {
     "base_uri": "https://localhost:8080/"
    },
    "execution": {
     "iopub.execute_input": "2021-12-13T11:16:54.593185Z",
     "iopub.status.busy": "2021-12-13T11:16:54.592323Z",
     "iopub.status.idle": "2021-12-13T11:16:54.599677Z",
     "shell.execute_reply": "2021-12-13T11:16:54.598843Z",
     "shell.execute_reply.started": "2021-12-13T11:16:54.593129Z"
    },
    "id": "veuOn9YcrP4R",
    "outputId": "1bf677bd-5b4a-49e0-f0a6-f93ea487ccf6"
   },
   "outputs": [
    {
     "name": "stdout",
     "output_type": "stream",
     "text": [
      "0.09009009009009009\n"
     ]
    }
   ],
   "source": [
    "# division on x and z\n",
    "print(x / z)"
   ]
  },
  {
   "cell_type": "markdown",
   "metadata": {
    "id": "lPSllBVYrP4R"
   },
   "source": [
    "`//` => divides and returns integer value of quotient\n",
    "* It will dump digits after decimal"
   ]
  },
  {
   "cell_type": "code",
   "execution_count": 13,
   "metadata": {
    "colab": {
     "base_uri": "https://localhost:8080/"
    },
    "execution": {
     "iopub.execute_input": "2021-12-13T11:17:43.712052Z",
     "iopub.status.busy": "2021-12-13T11:17:43.711764Z",
     "iopub.status.idle": "2021-12-13T11:17:43.717685Z",
     "shell.execute_reply": "2021-12-13T11:17:43.716923Z",
     "shell.execute_reply.started": "2021-12-13T11:17:43.712021Z"
    },
    "id": "LjvFNdDHrP4R",
    "outputId": "74247edc-70c0-4860-d3ec-fd38c9fc6ff1"
   },
   "outputs": [
    {
     "name": "stdout",
     "output_type": "stream",
     "text": [
      "7 77\n"
     ]
    }
   ],
   "source": [
    "# floor division(ignores decimal) on x and z (gives quotient)\n",
    "import math\n",
    "floor_Value = math.floor(x)\n",
    "floorValueTwo = math.floor(z)\n",
    "print(floor_Value, floorValueTwo)"
   ]
  },
  {
   "cell_type": "code",
   "execution_count": 14,
   "metadata": {
    "colab": {
     "base_uri": "https://localhost:8080/"
    },
    "execution": {
     "iopub.execute_input": "2021-12-13T11:18:23.768814Z",
     "iopub.status.busy": "2021-12-13T11:18:23.768469Z",
     "iopub.status.idle": "2021-12-13T11:18:23.774541Z",
     "shell.execute_reply": "2021-12-13T11:18:23.773825Z",
     "shell.execute_reply.started": "2021-12-13T11:18:23.768775Z"
    },
    "id": "prGaXfI2rP4R",
    "outputId": "ffdfa431-8d36-40b1-a2d6-3a428e3b1e2d"
   },
   "outputs": [
    {
     "name": "stdout",
     "output_type": "stream",
     "text": [
      "7.0\n"
     ]
    }
   ],
   "source": [
    "# Modulo(gives remainder) on x and z\n",
    "print(x % z)"
   ]
  },
  {
   "cell_type": "markdown",
   "metadata": {
    "id": "BqiZFRnxrP4R"
   },
   "source": [
    "# **`Comparison Operators`**"
   ]
  },
  {
   "cell_type": "code",
   "execution_count": 15,
   "metadata": {
    "colab": {
     "base_uri": "https://localhost:8080/"
    },
    "execution": {
     "iopub.execute_input": "2021-12-13T11:18:53.671899Z",
     "iopub.status.busy": "2021-12-13T11:18:53.671588Z",
     "iopub.status.idle": "2021-12-13T11:18:53.677758Z",
     "shell.execute_reply": "2021-12-13T11:18:53.676944Z",
     "shell.execute_reply.started": "2021-12-13T11:18:53.671852Z"
    },
    "id": "cZTjTlksrP4S",
    "outputId": "338815ee-53ee-42f3-80b6-59933758768b"
   },
   "outputs": [
    {
     "name": "stdout",
     "output_type": "stream",
     "text": [
      "True\n"
     ]
    }
   ],
   "source": [
    "# comapre and see if x is less then z \n",
    "# can use '<' symbol\n",
    "\n",
    "compareVar = x < z\n",
    "print(compareVar)"
   ]
  },
  {
   "cell_type": "code",
   "execution_count": 16,
   "metadata": {
    "colab": {
     "base_uri": "https://localhost:8080/"
    },
    "execution": {
     "iopub.execute_input": "2021-12-13T11:18:56.585807Z",
     "iopub.status.busy": "2021-12-13T11:18:56.585406Z",
     "iopub.status.idle": "2021-12-13T11:18:56.591392Z",
     "shell.execute_reply": "2021-12-13T11:18:56.590675Z",
     "shell.execute_reply.started": "2021-12-13T11:18:56.585775Z"
    },
    "id": "ugLB8T4zrP4S",
    "outputId": "4cf49f24-87d6-4d8e-dee3-4301e9d554f7"
   },
   "outputs": [
    {
     "name": "stdout",
     "output_type": "stream",
     "text": [
      "<class 'bool'>\n"
     ]
    }
   ],
   "source": [
    "# check the type of above comaprison where it says comapre and see if x is less then z \n",
    "print(type(compareVar))"
   ]
  },
  {
   "cell_type": "markdown",
   "metadata": {
    "id": "JvyfWt8NrP4S"
   },
   "source": [
    "* `Bool` => takes two values, either `True` or `False`"
   ]
  },
  {
   "cell_type": "code",
   "execution_count": 17,
   "metadata": {
    "colab": {
     "base_uri": "https://localhost:8080/"
    },
    "execution": {
     "iopub.execute_input": "2021-12-13T11:20:21.121906Z",
     "iopub.status.busy": "2021-12-13T11:20:21.121593Z",
     "iopub.status.idle": "2021-12-13T11:20:21.128235Z",
     "shell.execute_reply": "2021-12-13T11:20:21.127415Z",
     "shell.execute_reply.started": "2021-12-13T11:20:21.121858Z"
    },
    "id": "qrLXc7h8rP4S",
    "outputId": "1106e876-fae9-461d-f44d-605e0be52441"
   },
   "outputs": [
    {
     "name": "stdout",
     "output_type": "stream",
     "text": [
      "True\n"
     ]
    }
   ],
   "source": [
    "# compare and see if x is less then or equall to z\n",
    "# can use '<=' symbol\n",
    "print(x <= z)"
   ]
  },
  {
   "cell_type": "code",
   "execution_count": 18,
   "metadata": {
    "colab": {
     "base_uri": "https://localhost:8080/"
    },
    "execution": {
     "iopub.execute_input": "2021-12-13T11:21:03.964669Z",
     "iopub.status.busy": "2021-12-13T11:21:03.964122Z",
     "iopub.status.idle": "2021-12-13T11:21:03.970529Z",
     "shell.execute_reply": "2021-12-13T11:21:03.969911Z",
     "shell.execute_reply.started": "2021-12-13T11:21:03.964617Z"
    },
    "id": "QITa8mAorP4S",
    "outputId": "ec6dc405-eb0e-46a3-c167-da700179af34"
   },
   "outputs": [
    {
     "name": "stdout",
     "output_type": "stream",
     "text": [
      "False\n"
     ]
    }
   ],
   "source": [
    "# comapre and see if x equall to z\n",
    "# can use '==' symbol\n",
    "print(x == z)"
   ]
  },
  {
   "cell_type": "code",
   "execution_count": 20,
   "metadata": {
    "colab": {
     "base_uri": "https://localhost:8080/"
    },
    "execution": {
     "iopub.execute_input": "2021-12-13T11:21:17.56085Z",
     "iopub.status.busy": "2021-12-13T11:21:17.560326Z",
     "iopub.status.idle": "2021-12-13T11:21:17.566991Z",
     "shell.execute_reply": "2021-12-13T11:21:17.566308Z",
     "shell.execute_reply.started": "2021-12-13T11:21:17.560801Z"
    },
    "id": "to09wf4lrP4S",
    "outputId": "592d9cad-2331-44fe-b199-92bd286aef93"
   },
   "outputs": [
    {
     "name": "stdout",
     "output_type": "stream",
     "text": [
      "False\n"
     ]
    }
   ],
   "source": [
    "# comapre and see if x is greater than z\n",
    "# can use '>' symbol\n",
    "print(x > z)"
   ]
  },
  {
   "cell_type": "code",
   "execution_count": 21,
   "metadata": {
    "colab": {
     "base_uri": "https://localhost:8080/"
    },
    "execution": {
     "iopub.status.busy": "2021-12-11T05:18:03.366407Z",
     "iopub.status.idle": "2021-12-11T05:18:03.366829Z",
     "shell.execute_reply": "2021-12-11T05:18:03.366687Z",
     "shell.execute_reply.started": "2021-12-11T05:18:03.36667Z"
    },
    "id": "3XjJEvQmrP4S",
    "outputId": "2ec0ecc4-ca4e-4aab-e8a0-565cc4ffcf9d"
   },
   "outputs": [
    {
     "name": "stdout",
     "output_type": "stream",
     "text": [
      "False\n"
     ]
    }
   ],
   "source": [
    "# comapre and see if x is greater than or equall to z\n",
    "# can use '>=' symbol\n",
    "print(x >= z)"
   ]
  },
  {
   "cell_type": "code",
   "execution_count": 22,
   "metadata": {
    "colab": {
     "base_uri": "https://localhost:8080/"
    },
    "execution": {
     "iopub.execute_input": "2021-12-13T11:21:27.087849Z",
     "iopub.status.busy": "2021-12-13T11:21:27.087572Z",
     "iopub.status.idle": "2021-12-13T11:21:27.094348Z",
     "shell.execute_reply": "2021-12-13T11:21:27.093707Z",
     "shell.execute_reply.started": "2021-12-13T11:21:27.087821Z"
    },
    "id": "U3R4NtLUrP4S",
    "outputId": "8139031e-7e45-4a66-96f6-ebcf85df150b"
   },
   "outputs": [
    {
     "name": "stdout",
     "output_type": "stream",
     "text": [
      "True\n"
     ]
    }
   ],
   "source": [
    "# comapre and see if x is Not equall to z\n",
    "# can use '!=' symbol\n",
    "\n",
    "print( x != z)"
   ]
  },
  {
   "cell_type": "markdown",
   "metadata": {
    "id": "i1cSXmgbrP4T"
   },
   "source": [
    "# **`Logical Operators`**"
   ]
  },
  {
   "cell_type": "code",
   "execution_count": 23,
   "metadata": {
    "colab": {
     "base_uri": "https://localhost:8080/"
    },
    "execution": {
     "iopub.execute_input": "2021-12-13T11:22:13.637837Z",
     "iopub.status.busy": "2021-12-13T11:22:13.637267Z",
     "iopub.status.idle": "2021-12-13T11:22:13.644724Z",
     "shell.execute_reply": "2021-12-13T11:22:13.643893Z",
     "shell.execute_reply.started": "2021-12-13T11:22:13.637786Z"
    },
    "id": "qrf5nOLerP4T",
    "outputId": "5b5bad4d-6568-4e8a-f606-fa5850986071"
   },
   "outputs": [
    {
     "name": "stdout",
     "output_type": "stream",
     "text": [
      "True\n",
      "True\n"
     ]
    }
   ],
   "source": [
    "# compare if 108 is equall to 108, 21 is equall to 21 using logical and \n",
    "# equall to => '=='\n",
    "# logical and => and\n",
    "print(108 == 108)\n",
    "print(21 == 21 )\n",
    "# in and both condition must be True to get a True"
   ]
  },
  {
   "cell_type": "code",
   "execution_count": 24,
   "metadata": {
    "colab": {
     "base_uri": "https://localhost:8080/"
    },
    "execution": {
     "iopub.execute_input": "2021-12-13T11:22:24.56808Z",
     "iopub.status.busy": "2021-12-13T11:22:24.567356Z",
     "iopub.status.idle": "2021-12-13T11:22:24.576075Z",
     "shell.execute_reply": "2021-12-13T11:22:24.574969Z",
     "shell.execute_reply.started": "2021-12-13T11:22:24.56804Z"
    },
    "id": "Zp51tX7NrP4T",
    "outputId": "613342d8-4d42-4d16-b44e-c1751f71b01a"
   },
   "outputs": [
    {
     "name": "stdout",
     "output_type": "stream",
     "text": [
      "False\n",
      "False\n"
     ]
    }
   ],
   "source": [
    "# how above condition can give False as output show all those conditions\n",
    "print(108 != 108)\n",
    "print(21 != 21)"
   ]
  },
  {
   "cell_type": "code",
   "execution_count": 27,
   "metadata": {
    "colab": {
     "base_uri": "https://localhost:8080/"
    },
    "execution": {
     "iopub.execute_input": "2021-12-13T11:22:39.576213Z",
     "iopub.status.busy": "2021-12-13T11:22:39.575636Z",
     "iopub.status.idle": "2021-12-13T11:22:39.58328Z",
     "shell.execute_reply": "2021-12-13T11:22:39.582673Z",
     "shell.execute_reply.started": "2021-12-13T11:22:39.576179Z"
    },
    "id": "TRMHLAHkrP4T",
    "outputId": "f6e7a8a2-395e-405c-9669-b6c7238ad97a"
   },
   "outputs": [
    {
     "name": "stdout",
     "output_type": "stream",
     "text": [
      "True\n"
     ]
    }
   ],
   "source": [
    "# compare if 108 is equall to 108, 21 is equall to 11 using logical or\n",
    "# equall to => '=='\n",
    "# logical or => or\n",
    "print(108 == 108 or 21 == 21 or 108 <= 11)\n",
    "# in or Only one condition need to be True to get a True"
   ]
  },
  {
   "cell_type": "code",
   "execution_count": 31,
   "metadata": {
    "colab": {
     "base_uri": "https://localhost:8080/"
    },
    "execution": {
     "iopub.execute_input": "2021-12-13T11:22:58.998022Z",
     "iopub.status.busy": "2021-12-13T11:22:58.997422Z",
     "iopub.status.idle": "2021-12-13T11:22:59.004662Z",
     "shell.execute_reply": "2021-12-13T11:22:59.003884Z",
     "shell.execute_reply.started": "2021-12-13T11:22:58.997978Z"
    },
    "id": "QQRfWOkzrP4T",
    "outputId": "69a82d41-b61d-4183-ca01-c3550b5553f0"
   },
   "outputs": [
    {
     "data": {
      "text/plain": [
       "True"
      ]
     },
     "execution_count": 31,
     "metadata": {},
     "output_type": "execute_result"
    }
   ],
   "source": [
    "# this is for you to understand it\n",
    "(108 == 108) or (21 == 11) or (108 <= 11)"
   ]
  },
  {
   "cell_type": "code",
   "execution_count": null,
   "metadata": {},
   "outputs": [],
   "source": []
  },
  {
   "cell_type": "markdown",
   "metadata": {
    "id": "r5LWKR-irP4T"
   },
   "source": [
    "# **`if`--- `else`** => to handle single condition <br>\n",
    "# **`if`--- `elif`--- `else`** => to handle Multiple condition"
   ]
  },
  {
   "cell_type": "markdown",
   "metadata": {
    "id": "_7lo_XpYrP4U"
   },
   "source": [
    "`Observe in Python code:` \n",
    "* `if` => statement in python\n",
    "* `else` => statement in python\n",
    "* `:` => colon => denotes start of if block i.e. any line written after colon belong to if condition\n",
    "* `....` => see then as indentation i.e. 4 spaces => indentation indicates all code belong to only if and then another indentation indicates code for only else block "
   ]
  },
  {
   "cell_type": "code",
   "execution_count": 29,
   "metadata": {
    "colab": {
     "base_uri": "https://localhost:8080/"
    },
    "execution": {
     "iopub.execute_input": "2021-12-13T12:04:09.255152Z",
     "iopub.status.busy": "2021-12-13T12:04:09.254359Z",
     "iopub.status.idle": "2021-12-13T12:04:09.301228Z",
     "shell.execute_reply": "2021-12-13T12:04:09.300137Z",
     "shell.execute_reply.started": "2021-12-13T12:04:09.254985Z"
    },
    "id": "e2SpODuorP4U",
    "outputId": "c32da32f-2a21-4e62-dc8a-ac11e9d307f7"
   },
   "outputs": [],
   "source": [
    "# make variable with value as : money 100000\n",
    "\n",
    "# see output of money > 2000 \n",
    "money = 100000\n",
    "if money > 2000:\n",
    "    print(money)\n"
   ]
  },
  {
   "cell_type": "code",
   "execution_count": 30,
   "metadata": {
    "colab": {
     "base_uri": "https://localhost:8080/"
    },
    "execution": {
     "iopub.execute_input": "2021-12-13T12:04:41.020917Z",
     "iopub.status.busy": "2021-12-13T12:04:41.020562Z",
     "iopub.status.idle": "2021-12-13T12:04:41.027788Z",
     "shell.execute_reply": "2021-12-13T12:04:41.026428Z",
     "shell.execute_reply.started": "2021-12-13T12:04:41.020881Z"
    },
    "id": "8rLKbxCqrP4U",
    "outputId": "51aa49a6-d403-4292-8190-e23354ccda3b"
   },
   "outputs": [
    {
     "name": "stdout",
     "output_type": "stream",
     "text": [
      "Date Scinece course is FREE\n"
     ]
    }
   ],
   "source": [
    "# assign money variable value of 10000\n",
    "##### say you have this much ammount in your account\n",
    "money = 10000\n",
    "\n",
    "# start of if condition\n",
    "# if money is greater then 1000 which is data science course free\n",
    "if money > 1000:\n",
    "    print(\"Date Scinece course is FREE\")\n",
    "else:\n",
    "    print(\"You have LESS AMOUNT in your bank account\")\n",
    "# if money > 1000 is false i.e. you have less money then 1000 in your account then else will work for now only if is workin"
   ]
  },
  {
   "cell_type": "code",
   "execution_count": 1,
   "metadata": {
    "colab": {
     "base_uri": "https://localhost:8080/"
    },
    "execution": {
     "iopub.execute_input": "2021-12-13T12:12:40.145964Z",
     "iopub.status.busy": "2021-12-13T12:12:40.145355Z",
     "iopub.status.idle": "2021-12-13T12:12:45.469908Z",
     "shell.execute_reply": "2021-12-13T12:12:45.469259Z",
     "shell.execute_reply.started": "2021-12-13T12:12:40.145915Z"
    },
    "id": "UkSB0BDKrP4V",
    "outputId": "95379bf8-12f8-49a8-abbe-412385fa278c"
   },
   "outputs": [
    {
     "name": "stdout",
     "output_type": "stream",
     "text": [
      "Grade 'B'\n"
     ]
    }
   ],
   "source": [
    "# take a test_score variable with 80 in it.\n",
    "test_score = 80\n",
    "\n",
    "# if test_score greater then 80 then print A grade\n",
    "if test_score > 80:\n",
    "    print(\"Grade 'A'\")\n",
    "elif test_score > 60 & test_score < 80:\n",
    "    print(\"Grade 'B'\")\n",
    "else:\n",
    "    print(\"Nothing for you\")\n",
    "\n",
    "# elif test_score greater then 60 and less then 80 print B grade\n",
    "# else print Nothing for you"
   ]
  },
  {
   "cell_type": "code",
   "execution_count": null,
   "metadata": {},
   "outputs": [],
   "source": []
  },
  {
   "cell_type": "markdown",
   "metadata": {},
   "source": [
    "# **`Python Loops`**"
   ]
  },
  {
   "cell_type": "code",
   "execution_count": 39,
   "metadata": {
    "colab": {
     "base_uri": "https://localhost:8080/",
     "height": 38
    },
    "id": "UsOavUkNrP4X",
    "outputId": "6a576f4b-5655-4091-e59b-722ecdd3f3fb"
   },
   "outputs": [
    {
     "data": {
      "text/plain": [
       "'\\nfor iterating_variable in sequence:\\n    statement(s)\\n'"
      ]
     },
     "execution_count": 39,
     "metadata": {},
     "output_type": "execute_result"
    }
   ],
   "source": [
    "\"\"\"\n",
    "for iterating_variable in sequence:\n",
    "    statement(s)\n",
    "\"\"\""
   ]
  },
  {
   "cell_type": "code",
   "execution_count": 40,
   "metadata": {
    "colab": {
     "base_uri": "https://localhost:8080/"
    },
    "execution": {
     "iopub.execute_input": "2021-12-14T05:27:42.974824Z",
     "iopub.status.busy": "2021-12-14T05:27:42.973933Z",
     "iopub.status.idle": "2021-12-14T05:27:42.981157Z",
     "shell.execute_reply": "2021-12-14T05:27:42.980185Z",
     "shell.execute_reply.started": "2021-12-14T05:27:42.97478Z"
    },
    "id": "v3DtstO3rP4X",
    "outputId": "3138dfad-be46-49d8-a0aa-8e74c8855a9d"
   },
   "outputs": [
    {
     "name": "stdout",
     "output_type": "stream",
     "text": [
      "0\n",
      "1\n",
      "2\n",
      "3\n",
      "4\n",
      "5\n",
      "6\n",
      "7\n",
      "8\n",
      "9\n"
     ]
    }
   ],
   "source": []
  },
  {
   "cell_type": "code",
   "execution_count": 1,
   "metadata": {
    "colab": {
     "base_uri": "https://localhost:8080/"
    },
    "execution": {
     "iopub.execute_input": "2021-12-14T05:29:31.818786Z",
     "iopub.status.busy": "2021-12-14T05:29:31.818325Z",
     "iopub.status.idle": "2021-12-14T05:29:31.825965Z",
     "shell.execute_reply": "2021-12-14T05:29:31.82532Z",
     "shell.execute_reply.started": "2021-12-14T05:29:31.818752Z"
    },
    "id": "nD9f1mMwrP4X",
    "outputId": "a087b7d8-d4b9-4f11-8d45-f3c460ea562e"
   },
   "outputs": [
    {
     "name": "stdout",
     "output_type": "stream",
     "text": [
      "I love Sports\n",
      "I love Sports\n",
      "I love Sports\n",
      "I love Sports\n",
      "I love Sports\n",
      "I love Sports\n",
      "I love Sports\n",
      "I love Sports\n",
      "I love Sports\n",
      "I love Sports\n"
     ]
    }
   ],
   "source": [
    "# print 'I love sports' 10 times using for loop\n",
    "for i in range(10):\n",
    "    print('I love Sports')\n"
   ]
  },
  {
   "cell_type": "markdown",
   "metadata": {
    "id": "F10cQq2RrP4X"
   },
   "source": [
    "`10` => `stoping criteria` of, for loop"
   ]
  },
  {
   "cell_type": "markdown",
   "metadata": {
    "id": "sYmBZqXkrP4X"
   },
   "source": [
    "* `in` => keyword\n",
    "* `sequence` => on which to itterate\n",
    "* `:` => colon , start of for loop"
   ]
  },
  {
   "cell_type": "markdown",
   "metadata": {
    "id": "nR0WJpXwrP4X"
   },
   "source": [
    "`!=` = not equall to => `behaves as a stoping criteria`"
   ]
  },
  {
   "cell_type": "code",
   "execution_count": 5,
   "metadata": {
    "colab": {
     "base_uri": "https://localhost:8080/",
     "height": 38
    },
    "execution": {
     "iopub.status.busy": "2021-12-11T05:18:11.230229Z",
     "iopub.status.idle": "2021-12-11T05:18:11.230505Z",
     "shell.execute_reply": "2021-12-11T05:18:11.230373Z",
     "shell.execute_reply.started": "2021-12-11T05:18:11.230358Z"
    },
    "id": "vYJsdLnerP4Y",
    "outputId": "44686682-2f3a-4522-bdf4-84215e4a8f17"
   },
   "outputs": [
    {
     "data": {
      "text/plain": [
       "'\\nwhile comparison:\\n    statements(s)\\n'"
      ]
     },
     "execution_count": 5,
     "metadata": {},
     "output_type": "execute_result"
    }
   ],
   "source": [
    "# Syntax of while loop\n",
    "\"\"\"\n",
    "while comparison:\n",
    "    statements(s)\n",
    "\"\"\"\n"
   ]
  },
  {
   "cell_type": "code",
   "execution_count": 8,
   "metadata": {
    "colab": {
     "base_uri": "https://localhost:8080/"
    },
    "execution": {
     "iopub.execute_input": "2021-12-14T05:32:44.799916Z",
     "iopub.status.busy": "2021-12-14T05:32:44.799592Z",
     "iopub.status.idle": "2021-12-14T05:32:44.807523Z",
     "shell.execute_reply": "2021-12-14T05:32:44.806458Z",
     "shell.execute_reply.started": "2021-12-14T05:32:44.799882Z"
    },
    "id": "No1lV66XrP4Y",
    "outputId": "6d6d01cd-2c11-499b-e593-ac9fa8dcc629"
   },
   "outputs": [
    {
     "name": "stdout",
     "output_type": "stream",
     "text": [
      "0\n",
      "1\n",
      "2\n",
      "3\n",
      "4\n",
      "5\n",
      "6\n",
      "7\n",
      "8\n",
      "9\n",
      "10\n"
     ]
    }
   ],
   "source": [
    "# while loop\n",
    "\n",
    "# save 0 in variable number\n",
    "\n",
    "number = 0\n",
    "while number <= 10:\n",
    "    print(number)\n",
    "    number += 1\n",
    "\n",
    "# print till 10 using while loop\n"
   ]
  },
  {
   "cell_type": "markdown",
   "metadata": {
    "id": "9oFT7qEjrP4Y"
   },
   "source": [
    "* Initialized variable `number = 0` and then increment it's value in each iteration\n",
    "* Loop will only continue to run only if value is less than 10"
   ]
  },
  {
   "cell_type": "markdown",
   "metadata": {
    "id": "ZFHHxSeqrP4Z"
   },
   "source": [
    "# **`Type of Jump Statements`** <br>\n",
    "`Break Statement`\n",
    "`Continue Statement`"
   ]
  },
  {
   "cell_type": "markdown",
   "metadata": {
    "id": "2TlMjfJVrP4a"
   },
   "source": [
    "# **`Break Statement`**\n"
   ]
  },
  {
   "cell_type": "code",
   "execution_count": 10,
   "metadata": {
    "colab": {
     "base_uri": "https://localhost:8080/"
    },
    "execution": {
     "iopub.execute_input": "2021-12-14T09:25:34.60943Z",
     "iopub.status.busy": "2021-12-14T09:25:34.609121Z",
     "iopub.status.idle": "2021-12-14T09:25:34.617876Z",
     "shell.execute_reply": "2021-12-14T09:25:34.616894Z",
     "shell.execute_reply.started": "2021-12-14T09:25:34.609398Z"
    },
    "id": "9E-BFzqUrP4a",
    "outputId": "785d296c-e195-4af8-ce70-784cc9bd2447"
   },
   "outputs": [
    {
     "name": "stdout",
     "output_type": "stream",
     "text": [
      "The number is 0\n",
      "The number is 1\n",
      "The number is 2\n",
      "The number is 3\n",
      "The number is 4\n",
      "The number is 5\n",
      "The number is 6\n",
      "The number is 7\n",
      "The number is 8\n",
      "The number is 9\n"
     ]
    }
   ],
   "source": [
    "# example that uses break statement in a for loop\n",
    "\n",
    "# take range(10) and print 'The number is' + value\n",
    "for x in range(10):\n",
    "    print('The number is ' + str(x))\n",
    "    if number == 5:\n",
    "        break\n",
    "# break when num equals 5\n"
   ]
  },
  {
   "cell_type": "markdown",
   "metadata": {
    "id": "oPN-KW8ErP4a"
   },
   "source": [
    "# **`Continue Statement`**\n"
   ]
  },
  {
   "cell_type": "code",
   "execution_count": 11,
   "metadata": {
    "colab": {
     "base_uri": "https://localhost:8080/"
    },
    "execution": {
     "iopub.execute_input": "2021-12-14T06:14:44.160916Z",
     "iopub.status.busy": "2021-12-14T06:14:44.160579Z",
     "iopub.status.idle": "2021-12-14T06:14:44.169578Z",
     "shell.execute_reply": "2021-12-14T06:14:44.168622Z",
     "shell.execute_reply.started": "2021-12-14T06:14:44.160884Z"
    },
    "id": "I7RGHGcDrP4a",
    "outputId": "1623dadf-25b1-4d43-e696-0b7afb26703b"
   },
   "outputs": [
    {
     "name": "stdout",
     "output_type": "stream",
     "text": [
      "The number is  0\n",
      "The number is  1\n",
      "The number is  2\n",
      "The number is  3\n",
      "The number is  4\n",
      "The number is  5\n",
      "The number is  6\n",
      "The number is  7\n",
      "The number is  8\n",
      "The number is  9\n"
     ]
    }
   ],
   "source": [
    "# Using same `for loop program` as in Break Statement section above\n",
    "# Use a continue statement rather than a break statement\n",
    "\n",
    "# take range(10) and print 'The number is' + value\n",
    "for x in range(10):\n",
    "    print(\"The number is \", str(x))\n",
    "    if x == 5:\n",
    "        continue\n",
    "# continue when num equals 5\n"
   ]
  },
  {
   "cell_type": "code",
   "execution_count": null,
   "metadata": {},
   "outputs": [],
   "source": []
  },
  {
   "cell_type": "markdown",
   "metadata": {
    "id": "PMmen0JyrP4r"
   },
   "source": [
    "# **`String Manipulation`**"
   ]
  },
  {
   "cell_type": "code",
   "execution_count": 49,
   "metadata": {
    "id": "8J1dpy6rrP4r"
   },
   "outputs": [],
   "source": [
    "string_ = '' or \"\" or \"\"\" \"\"\""
   ]
  },
  {
   "cell_type": "code",
   "execution_count": 17,
   "metadata": {
    "colab": {
     "base_uri": "https://localhost:8080/",
     "height": 38
    },
    "execution": {
     "iopub.execute_input": "2021-12-13T11:01:34.238451Z",
     "iopub.status.busy": "2021-12-13T11:01:34.238169Z",
     "iopub.status.idle": "2021-12-13T11:01:34.244158Z",
     "shell.execute_reply": "2021-12-13T11:01:34.243186Z",
     "shell.execute_reply.started": "2021-12-13T11:01:34.238418Z"
    },
    "id": "P4TiJEQCrP4s",
    "outputId": "bae75f24-20d2-4366-8444-4613f8d1a8b5"
   },
   "outputs": [],
   "source": [
    "# define a string variable with \"We are creating next generation data science eco-system at CollegeRanker\"\n",
    "\n",
    "myString = 'we are creating next generation data scinece eco-system at CollegeRanker'"
   ]
  },
  {
   "cell_type": "code",
   "execution_count": 3,
   "metadata": {
    "colab": {
     "base_uri": "https://localhost:8080/"
    },
    "execution": {
     "iopub.execute_input": "2021-12-13T11:01:34.958307Z",
     "iopub.status.busy": "2021-12-13T11:01:34.957656Z",
     "iopub.status.idle": "2021-12-13T11:01:34.963401Z",
     "shell.execute_reply": "2021-12-13T11:01:34.96252Z",
     "shell.execute_reply.started": "2021-12-13T11:01:34.958266Z"
    },
    "id": "Ujfo-CHZrP4s",
    "outputId": "5f2290e3-5b15-440b-f412-61a6dd5dbccb"
   },
   "outputs": [
    {
     "name": "stdout",
     "output_type": "stream",
     "text": [
      "71\n"
     ]
    }
   ],
   "source": [
    "# Find length of string including spaces\n",
    "print(len(myString))"
   ]
  },
  {
   "cell_type": "code",
   "execution_count": 4,
   "metadata": {
    "colab": {
     "base_uri": "https://localhost:8080/",
     "height": 38
    },
    "execution": {
     "iopub.execute_input": "2021-12-13T11:01:42.029037Z",
     "iopub.status.busy": "2021-12-13T11:01:42.028477Z",
     "iopub.status.idle": "2021-12-13T11:01:42.035886Z",
     "shell.execute_reply": "2021-12-13T11:01:42.035025Z",
     "shell.execute_reply.started": "2021-12-13T11:01:42.02899Z"
    },
    "id": "huRY2kW4rP4s",
    "outputId": "ea32d5f3-a346-4215-bf42-717e42861884"
   },
   "outputs": [
    {
     "name": "stdout",
     "output_type": "stream",
     "text": [
      "W\n"
     ]
    }
   ],
   "source": [
    "# Access characters in a string with indexing i.e string[0]\n",
    "print(myString[0])"
   ]
  },
  {
   "cell_type": "code",
   "execution_count": 5,
   "metadata": {
    "colab": {
     "base_uri": "https://localhost:8080/",
     "height": 38
    },
    "execution": {
     "iopub.execute_input": "2021-12-13T11:01:54.758166Z",
     "iopub.status.busy": "2021-12-13T11:01:54.757886Z",
     "iopub.status.idle": "2021-12-13T11:01:54.76332Z",
     "shell.execute_reply": "2021-12-13T11:01:54.762662Z",
     "shell.execute_reply.started": "2021-12-13T11:01:54.758136Z"
    },
    "id": "ynPqdSYdrP4s",
    "outputId": "11749250-e549-4b7f-b1c2-0c99b592e87d"
   },
   "outputs": [
    {
     "name": "stdout",
     "output_type": "stream",
     "text": [
      "r\n"
     ]
    }
   ],
   "source": [
    "# Access characters with negative indexing i.e string[-1]\n",
    "\n",
    "print(myString[-1])"
   ]
  },
  {
   "cell_type": "markdown",
   "metadata": {
    "id": "O9VaefTGrP4s"
   },
   "source": [
    "# String Slicing"
   ]
  },
  {
   "cell_type": "code",
   "execution_count": 6,
   "metadata": {
    "colab": {
     "base_uri": "https://localhost:8080/",
     "height": 38
    },
    "execution": {
     "iopub.execute_input": "2021-12-13T11:02:05.078251Z",
     "iopub.status.busy": "2021-12-13T11:02:05.077467Z",
     "iopub.status.idle": "2021-12-13T11:02:05.08393Z",
     "shell.execute_reply": "2021-12-13T11:02:05.083137Z",
     "shell.execute_reply.started": "2021-12-13T11:02:05.078214Z"
    },
    "id": "ry8spVYHrP4s",
    "outputId": "02cd607c-eeb6-4add-fac5-4b9ffcfb5f65"
   },
   "outputs": [
    {
     "name": "stdout",
     "output_type": "stream",
     "text": [
      "We are\n"
     ]
    }
   ],
   "source": [
    "# select string from first to 6th element i.e string[:6]\n",
    "\n",
    "print(myString[:6])"
   ]
  },
  {
   "cell_type": "code",
   "execution_count": 7,
   "metadata": {
    "colab": {
     "base_uri": "https://localhost:8080/",
     "height": 38
    },
    "execution": {
     "iopub.execute_input": "2021-12-13T11:02:17.092026Z",
     "iopub.status.busy": "2021-12-13T11:02:17.091514Z",
     "iopub.status.idle": "2021-12-13T11:02:17.098478Z",
     "shell.execute_reply": "2021-12-13T11:02:17.097041Z",
     "shell.execute_reply.started": "2021-12-13T11:02:17.091993Z"
    },
    "id": "9yyS6grLrP4s",
    "outputId": "6f90465e-e6b4-4d86-e6bf-a7ffbe2f515c"
   },
   "outputs": [
    {
     "name": "stdout",
     "output_type": "stream",
     "text": [
      "creating next generation data scinec eco-system at Col\n"
     ]
    }
   ],
   "source": [
    "# select string from 7th to negative 10th element i.e string[7:-10]\n",
    "\n",
    "print(myString[7:-10])"
   ]
  },
  {
   "cell_type": "markdown",
   "metadata": {
    "id": "IE-m76lwrP4s"
   },
   "source": [
    "Count of a particular `character` in a string"
   ]
  },
  {
   "cell_type": "code",
   "execution_count": 10,
   "metadata": {
    "colab": {
     "base_uri": "https://localhost:8080/"
    },
    "execution": {
     "iopub.execute_input": "2021-12-13T11:02:32.813513Z",
     "iopub.status.busy": "2021-12-13T11:02:32.813226Z",
     "iopub.status.idle": "2021-12-13T11:02:32.820308Z",
     "shell.execute_reply": "2021-12-13T11:02:32.819443Z",
     "shell.execute_reply.started": "2021-12-13T11:02:32.813481Z"
    },
    "id": "036-jd2TrP4s",
    "outputId": "87deaa1f-d531-4a3c-924f-d6c520bda3fb"
   },
   "outputs": [
    {
     "name": "stdout",
     "output_type": "stream",
     "text": [
      "The character 'e' appears '12 ' times in the string\n"
     ]
    }
   ],
   "source": [
    "\n",
    "chatToBe = 'e'\n",
    "count = myString.count(chatToBe)\n",
    "print(f\"The character '{chatToBe}' appears '{count} ' times in the string\")"
   ]
  },
  {
   "cell_type": "markdown",
   "metadata": {
    "id": "6BhlvAFmrP4s"
   },
   "source": [
    "Count of a particular `sub-string` in a string "
   ]
  },
  {
   "cell_type": "code",
   "execution_count": 12,
   "metadata": {
    "colab": {
     "base_uri": "https://localhost:8080/"
    },
    "execution": {
     "iopub.execute_input": "2021-12-13T11:02:46.68983Z",
     "iopub.status.busy": "2021-12-13T11:02:46.689548Z",
     "iopub.status.idle": "2021-12-13T11:02:46.696782Z",
     "shell.execute_reply": "2021-12-13T11:02:46.69582Z",
     "shell.execute_reply.started": "2021-12-13T11:02:46.6898Z"
    },
    "id": "pzaxuLCarP4s",
    "outputId": "ac1e0ef0-348c-4787-9dc5-1b8bf6ba6bac"
   },
   "outputs": [
    {
     "name": "stdout",
     "output_type": "stream",
     "text": [
      "32\n"
     ]
    }
   ],
   "source": [
    "myString = 'We are creating next generation data science eco-system at CollegeRanker'\n",
    "substring = 'data'\n",
    "position = myString.find(substring)\n",
    "print(position)\n"
   ]
  },
  {
   "cell_type": "markdown",
   "metadata": {
    "id": "gbyWCeAwrP4s"
   },
   "source": [
    "Find a substring in string using `find` and `index` function"
   ]
  },
  {
   "cell_type": "code",
   "execution_count": 11,
   "metadata": {
    "colab": {
     "base_uri": "https://localhost:8080/"
    },
    "execution": {
     "iopub.execute_input": "2021-12-13T11:03:44.010815Z",
     "iopub.status.busy": "2021-12-13T11:03:44.010507Z",
     "iopub.status.idle": "2021-12-13T11:03:44.017299Z",
     "shell.execute_reply": "2021-12-13T11:03:44.016185Z",
     "shell.execute_reply.started": "2021-12-13T11:03:44.010781Z"
    },
    "id": "tfFcaCXxrP4t",
    "outputId": "d9ca9ec0-fc58-4a22-d3ef-59323a72349a"
   },
   "outputs": [
    {
     "name": "stdout",
     "output_type": "stream",
     "text": [
      "1\n"
     ]
    }
   ],
   "source": [
    "# .find() => if present it will return starting index, not found then it will return -1\n",
    "# .index() => if present it will return starting index, not found then it will give error\n",
    "charToBeFound = myString.find('e')\n",
    "print(charToBeFound)"
   ]
  },
  {
   "cell_type": "code",
   "execution_count": 15,
   "metadata": {
    "colab": {
     "base_uri": "https://localhost:8080/"
    },
    "execution": {
     "iopub.execute_input": "2021-12-13T11:04:48.605999Z",
     "iopub.status.busy": "2021-12-13T11:04:48.605575Z",
     "iopub.status.idle": "2021-12-13T11:04:48.611854Z",
     "shell.execute_reply": "2021-12-13T11:04:48.611143Z",
     "shell.execute_reply.started": "2021-12-13T11:04:48.605962Z"
    },
    "id": "QK6TfpWyrP4t",
    "outputId": "d4d21a10-c677-425a-e880-95126ef89695"
   },
   "outputs": [
    {
     "name": "stdout",
     "output_type": "stream",
     "text": [
      "True\n",
      "False\n"
     ]
    }
   ],
   "source": [
    "### Checking whether string `startswith` or `endswith` a particular substring or not\n",
    "myString = 'We are creating next generation data science eco-system at CollegeRanker'\n",
    "print(myString.endswith(\"CollegeRanker\"))\n",
    "print(myString.startswith('are'))\n"
   ]
  },
  {
   "cell_type": "code",
   "execution_count": null,
   "metadata": {
    "colab": {
     "base_uri": "https://localhost:8080/"
    },
    "execution": {
     "iopub.execute_input": "2021-12-13T11:05:06.532097Z",
     "iopub.status.busy": "2021-12-13T11:05:06.531667Z",
     "iopub.status.idle": "2021-12-13T11:05:06.53704Z",
     "shell.execute_reply": "2021-12-13T11:05:06.536136Z",
     "shell.execute_reply.started": "2021-12-13T11:05:06.532065Z"
    },
    "id": "KEUqKWYqrP4t",
    "outputId": "77bf32e4-0c32-4bd2-b01c-e1995ff51a11"
   },
   "outputs": [],
   "source": [
    "\n"
   ]
  },
  {
   "cell_type": "code",
   "execution_count": 12,
   "metadata": {
    "colab": {
     "base_uri": "https://localhost:8080/",
     "height": 38
    },
    "execution": {
     "iopub.execute_input": "2021-12-13T11:05:29.695055Z",
     "iopub.status.busy": "2021-12-13T11:05:29.694529Z",
     "iopub.status.idle": "2021-12-13T11:05:29.700213Z",
     "shell.execute_reply": "2021-12-13T11:05:29.699432Z",
     "shell.execute_reply.started": "2021-12-13T11:05:29.695023Z"
    },
    "id": "LpEf2Vi_rP4t",
    "outputId": "885d6b8b-acc3-4b51-ea88-9244f2885a2e"
   },
   "outputs": [
    {
     "name": "stdout",
     "output_type": "stream",
     "text": [
      "<built-in method upper of str object at 0x0000016DEC3821B0>\n"
     ]
    }
   ],
   "source": [
    "### Converting string to upper case ###\n",
    "\n",
    "print(myString.upper)"
   ]
  },
  {
   "cell_type": "code",
   "execution_count": 18,
   "metadata": {
    "colab": {
     "base_uri": "https://localhost:8080/",
     "height": 38
    },
    "execution": {
     "iopub.execute_input": "2021-12-13T11:05:43.600499Z",
     "iopub.status.busy": "2021-12-13T11:05:43.599994Z",
     "iopub.status.idle": "2021-12-13T11:05:43.605902Z",
     "shell.execute_reply": "2021-12-13T11:05:43.604859Z",
     "shell.execute_reply.started": "2021-12-13T11:05:43.600462Z"
    },
    "id": "C-lc1BM5rP4t",
    "outputId": "9bab07c7-6456-4d62-b004-ba3ddc6df27d"
   },
   "outputs": [
    {
     "name": "stdout",
     "output_type": "stream",
     "text": [
      "We are creating next generation data scinece eco-system at collegeranker\n"
     ]
    }
   ],
   "source": [
    "### Converting only first character of string to upper case\n",
    "print(myString.capitalize())"
   ]
  },
  {
   "cell_type": "code",
   "execution_count": 20,
   "metadata": {
    "colab": {
     "base_uri": "https://localhost:8080/"
    },
    "execution": {
     "iopub.execute_input": "2021-12-13T11:06:19.800912Z",
     "iopub.status.busy": "2021-12-13T11:06:19.800396Z",
     "iopub.status.idle": "2021-12-13T11:06:19.806627Z",
     "shell.execute_reply": "2021-12-13T11:06:19.805745Z",
     "shell.execute_reply.started": "2021-12-13T11:06:19.800858Z"
    },
    "id": "eUfso5gHrP4t",
    "outputId": "1886034d-ab70-49d6-d45f-6e516d623412"
   },
   "outputs": [
    {
     "name": "stdout",
     "output_type": "stream",
     "text": [
      "False\n",
      "False\n"
     ]
    }
   ],
   "source": [
    "### Checking if string is in lower case or upper case\n",
    "\n",
    "print(myString.isupper())\n",
    "print(myString.islower())"
   ]
  },
  {
   "cell_type": "code",
   "execution_count": 21,
   "metadata": {
    "colab": {
     "base_uri": "https://localhost:8080/"
    },
    "execution": {
     "iopub.execute_input": "2021-12-13T11:07:14.639468Z",
     "iopub.status.busy": "2021-12-13T11:07:14.639007Z",
     "iopub.status.idle": "2021-12-13T11:07:14.645717Z",
     "shell.execute_reply": "2021-12-13T11:07:14.644712Z",
     "shell.execute_reply.started": "2021-12-13T11:07:14.639422Z"
    },
    "id": "4KJ8oYacrP4t",
    "outputId": "e4675c2e-e4ce-4e7b-94c4-9b4ae7f6f46b"
   },
   "outputs": [
    {
     "name": "stdout",
     "output_type": "stream",
     "text": [
      "False\n",
      "False\n",
      "False\n"
     ]
    }
   ],
   "source": [
    "### Checking if string is digit, alpabetic, alpha-numeric\n",
    "\n",
    "print(myString.isalnum())\n",
    "print(myString.isalpha())\n",
    "print(myString.isdigit())\n"
   ]
  },
  {
   "cell_type": "code",
   "execution_count": 25,
   "metadata": {
    "colab": {
     "base_uri": "https://localhost:8080/",
     "height": 38
    },
    "execution": {
     "iopub.execute_input": "2021-12-13T11:08:59.303427Z",
     "iopub.status.busy": "2021-12-13T11:08:59.302982Z",
     "iopub.status.idle": "2021-12-13T11:08:59.310259Z",
     "shell.execute_reply": "2021-12-13T11:08:59.309168Z",
     "shell.execute_reply.started": "2021-12-13T11:08:59.303392Z"
    },
    "id": "SGBdMJeurP4u",
    "outputId": "53684928-4589-4c57-c4d1-8e5a5fdee906"
   },
   "outputs": [],
   "source": [
    "# assign \"C++ is easy to learn\" to a new_str variable\n",
    "\n",
    "new_str = \"C++ is easy to learn\""
   ]
  },
  {
   "cell_type": "code",
   "execution_count": 26,
   "metadata": {
    "colab": {
     "base_uri": "https://localhost:8080/",
     "height": 38
    },
    "execution": {
     "iopub.execute_input": "2021-12-13T11:09:12.005822Z",
     "iopub.status.busy": "2021-12-13T11:09:12.005323Z",
     "iopub.status.idle": "2021-12-13T11:09:12.012082Z",
     "shell.execute_reply": "2021-12-13T11:09:12.011148Z",
     "shell.execute_reply.started": "2021-12-13T11:09:12.005782Z"
    },
    "id": "o3IMBWfqrP4u",
    "outputId": "d8ee05d3-46f4-4ace-ba07-1d373042c797"
   },
   "outputs": [
    {
     "name": "stdout",
     "output_type": "stream",
     "text": [
      "python is easy to learn\n"
     ]
    }
   ],
   "source": [
    "### Replace C++ with Python\n",
    "sstr = new_str.replace('C++', 'python')\n",
    "print(sstr)  # Output: 'python is easy to learn'\n"
   ]
  },
  {
   "cell_type": "code",
   "execution_count": 1,
   "metadata": {
    "colab": {
     "base_uri": "https://localhost:8080/"
    },
    "execution": {
     "iopub.execute_input": "2021-12-13T11:09:37.127736Z",
     "iopub.status.busy": "2021-12-13T11:09:37.127294Z",
     "iopub.status.idle": "2021-12-13T11:09:37.133848Z",
     "shell.execute_reply": "2021-12-13T11:09:37.133093Z",
     "shell.execute_reply.started": "2021-12-13T11:09:37.127695Z"
    },
    "id": "himKDrvcrP4u",
    "outputId": "16f98642-acfc-4073-d09e-8fbd71125740"
   },
   "outputs": [
    {
     "ename": "NameError",
     "evalue": "name 'new_str' is not defined",
     "output_type": "error",
     "traceback": [
      "\u001b[1;31m---------------------------------------------------------------------------\u001b[0m",
      "\u001b[1;31mNameError\u001b[0m                                 Traceback (most recent call last)",
      "Cell \u001b[1;32mIn[1], line 2\u001b[0m\n\u001b[0;32m      1\u001b[0m \u001b[38;5;66;03m### Use Split function on new_str ###\u001b[39;00m\n\u001b[1;32m----> 2\u001b[0m \u001b[38;5;28mprint\u001b[39m(\u001b[43mnew_str\u001b[49m\u001b[38;5;241m.\u001b[39msplit)\n",
      "\u001b[1;31mNameError\u001b[0m: name 'new_str' is not defined"
     ]
    }
   ],
   "source": [
    "### Use Split function on new_str ###\n",
    "print(new_str.split)\n"
   ]
  },
  {
   "cell_type": "markdown",
   "metadata": {
    "colab": {
     "base_uri": "https://localhost:8080/"
    },
    "execution": {
     "iopub.execute_input": "2021-12-13T11:09:45.285163Z",
     "iopub.status.busy": "2021-12-13T11:09:45.284668Z",
     "iopub.status.idle": "2021-12-13T11:09:45.291474Z",
     "shell.execute_reply": "2021-12-13T11:09:45.290548Z",
     "shell.execute_reply.started": "2021-12-13T11:09:45.285128Z"
    },
    "id": "cCDcaUzHrP4u",
    "outputId": "26c9046b-e3f3-41c5-ab4a-051bbf4bf5f5"
   },
   "source": [
    "# **`Python Functions`**"
   ]
  },
  {
   "cell_type": "code",
   "execution_count": 76,
   "metadata": {
    "colab": {
     "base_uri": "https://localhost:8080/",
     "height": 38
    },
    "execution": {
     "iopub.execute_input": "2021-12-14T10:18:36.097257Z",
     "iopub.status.busy": "2021-12-14T10:18:36.096956Z",
     "iopub.status.idle": "2021-12-14T10:18:36.102958Z",
     "shell.execute_reply": "2021-12-14T10:18:36.102283Z",
     "shell.execute_reply.started": "2021-12-14T10:18:36.097225Z"
    },
    "id": "4jqkxfNdrP4z",
    "outputId": "a232eae4-3829-4a38-cb4f-bc0e36d3ecf2"
   },
   "outputs": [
    {
     "data": {
      "text/plain": [
       "'\\ndef function_name():\\n    stetement(s)\\n'"
      ]
     },
     "execution_count": 76,
     "metadata": {},
     "output_type": "execute_result"
    }
   ],
   "source": [
    "\"\"\"\n",
    "def function_name():\n",
    "    stetement(s)\n",
    "\"\"\""
   ]
  },
  {
   "cell_type": "code",
   "execution_count": 4,
   "metadata": {
    "execution": {
     "iopub.execute_input": "2021-12-14T10:41:22.778938Z",
     "iopub.status.busy": "2021-12-14T10:41:22.778217Z",
     "iopub.status.idle": "2021-12-14T10:41:22.783295Z",
     "shell.execute_reply": "2021-12-14T10:41:22.782386Z",
     "shell.execute_reply.started": "2021-12-14T10:41:22.778903Z"
    },
    "id": "L8OCfOyPrP4z"
   },
   "outputs": [
    {
     "name": "stdout",
     "output_type": "stream",
     "text": [
      "Welocmem to functions!!!\n"
     ]
    }
   ],
   "source": [
    "# define a function with welcome_message(name) and body 'Welcome to Functions !!!'\n",
    "\n",
    "def welcome_message():\n",
    "  {\n",
    "     print(\"Welocome to functions!!!\")\n",
    "}\n",
    "\n",
    "welcome_message()"
   ]
  },
  {
   "cell_type": "code",
   "execution_count": 6,
   "metadata": {
    "colab": {
     "base_uri": "https://localhost:8080/"
    },
    "execution": {
     "iopub.execute_input": "2021-12-14T10:41:28.898798Z",
     "iopub.status.busy": "2021-12-14T10:41:28.89826Z",
     "iopub.status.idle": "2021-12-14T10:41:28.902844Z",
     "shell.execute_reply": "2021-12-14T10:41:28.902223Z",
     "shell.execute_reply.started": "2021-12-14T10:41:28.898763Z"
    },
    "id": "asBr2ewErP4z",
    "outputId": "b9c9380d-f45e-4d68-8099-a0c72f40f180"
   },
   "outputs": [
    {
     "name": "stdout",
     "output_type": "stream",
     "text": [
      "Ganga\n",
      "Welocmem to functions!!!\n"
     ]
    }
   ],
   "source": [
    "# call a function with your name\n",
    "print(\"Ganga\" )\n",
    "welcome_message()\n"
   ]
  },
  {
   "cell_type": "markdown",
   "metadata": {
    "id": "YKfp2X2irP4z"
   },
   "source": [
    "* `def` Keyword marking start of function\n",
    "* `function name` to uniquely identify function\n",
    "    * `function naming` follows same `rules of writing identifiers`\n",
    "* `parameters`(arguments) to pass values to a function => totally optional\n",
    "* `()` paranthesis\n",
    "* `colon (:)` start of function\n",
    "* `documentation string`(docstring) describe's what function does => totally optional\n",
    "* `return statement` returns a value from function => totally optional\n",
    "* inside colon is `function definition` it should always be present before function call or get an error"
   ]
  },
  {
   "cell_type": "code",
   "execution_count": 8,
   "metadata": {
    "execution": {
     "iopub.execute_input": "2021-12-14T10:46:10.134296Z",
     "iopub.status.busy": "2021-12-14T10:46:10.133283Z",
     "iopub.status.idle": "2021-12-14T10:46:10.138594Z",
     "shell.execute_reply": "2021-12-14T10:46:10.137987Z",
     "shell.execute_reply.started": "2021-12-14T10:46:10.134236Z"
    },
    "id": "TbWL-gm-rP4z"
   },
   "outputs": [
    {
     "name": "stdout",
     "output_type": "stream",
     "text": [
      "7\n"
     ]
    }
   ],
   "source": [
    "# Write a function to add two number which are as 3 and 4\n",
    "def add_numbers(numberOne, numberTwo):\n",
    "        total = numberOne + numberTwo\n",
    "        print(total)\n",
    "\n",
    "add_numbers(3, 4)\n",
    "   \n",
    "\n",
    "# in total variable store adition of 3 + 4\n",
    "# print total variable \n",
    "\n"
   ]
  },
  {
   "cell_type": "markdown",
   "metadata": {
    "id": "JzTJaFZirP41"
   },
   "source": [
    "# ***`Positional Arguments`*** \n",
    "Most arguments are identified by their position in function call\n",
    "* Say `print(x,y)` will give different results from `print(y,x)`\n",
    "\n",
    "What ever sequence is given while defining a function values must be taken in that sequence only\n",
    "* Otherwise use argument name **`(keyword arguments)`** to take values\n",
    "* We first define `positional argument` and then `keyword arguments`\n"
   ]
  },
  {
   "cell_type": "code",
   "execution_count": 9,
   "metadata": {
    "execution": {
     "iopub.execute_input": "2021-12-11T10:24:26.570469Z",
     "iopub.status.busy": "2021-12-11T10:24:26.570183Z",
     "iopub.status.idle": "2021-12-11T10:24:26.574882Z",
     "shell.execute_reply": "2021-12-11T10:24:26.574072Z",
     "shell.execute_reply.started": "2021-12-11T10:24:26.570434Z"
    },
    "id": "LpgDIWcYrP41"
   },
   "outputs": [
    {
     "name": "stdout",
     "output_type": "stream",
     "text": [
      "232\n"
     ]
    }
   ],
   "source": [
    "## Create substraction_function(small_number,large_number) and return difference between large_number and small_number\n",
    "\n",
    "def substraction_function(small_number, large_number):\n",
    "    result = small_number - large_number\n",
    "    print(result)\n",
    "\n"
   ]
  },
  {
   "cell_type": "code",
   "execution_count": 10,
   "metadata": {
    "colab": {
     "base_uri": "https://localhost:8080/"
    },
    "execution": {
     "iopub.execute_input": "2021-12-11T10:26:55.88569Z",
     "iopub.status.busy": "2021-12-11T10:26:55.88516Z",
     "iopub.status.idle": "2021-12-11T10:26:55.890293Z",
     "shell.execute_reply": "2021-12-11T10:26:55.889589Z",
     "shell.execute_reply.started": "2021-12-11T10:26:55.885652Z"
    },
    "id": "AX6Ku1j9rP41",
    "outputId": "06533fff-deb9-4d44-b464-7b5969d061af"
   },
   "outputs": [
    {
     "name": "stdout",
     "output_type": "stream",
     "text": [
      "325\n"
     ]
    }
   ],
   "source": [
    "# pass arguments in right order\n",
    "\n",
    "substraction_function(589, 264)"
   ]
  },
  {
   "cell_type": "code",
   "execution_count": 84,
   "metadata": {
    "colab": {
     "base_uri": "https://localhost:8080/"
    },
    "execution": {
     "iopub.execute_input": "2021-12-11T10:27:51.964287Z",
     "iopub.status.busy": "2021-12-11T10:27:51.963803Z",
     "iopub.status.idle": "2021-12-11T10:27:51.969195Z",
     "shell.execute_reply": "2021-12-11T10:27:51.968619Z",
     "shell.execute_reply.started": "2021-12-11T10:27:51.964251Z"
    },
    "id": "zSWT96GurP41",
    "outputId": "a3f76fb0-3f28-416a-dc4a-394e58e18c6d"
   },
   "outputs": [],
   "source": [
    "# always pass arguments using there name(keyword arguments) then order does not matter\n",
    "\n"
   ]
  },
  {
   "cell_type": "code",
   "execution_count": null,
   "metadata": {},
   "outputs": [],
   "source": []
  },
  {
   "cell_type": "markdown",
   "metadata": {
    "id": "_NUdf1OsrP42"
   },
   "source": [
    "# ***`Scope of Variables`*** means that part of program where we can access particular variable\n",
    "* `Local Variable` => variables defined inside a function and can be only accessed from inside of that particular function\n",
    "* `Global Variable` => variables defined outside a function and can be accessed throughout program\n",
    "\n",
    "Let's define a global variable, `\"global_variable\"` outside function\n",
    "* We will return its value using a function `\"randome_function\"` and see that we would be able to access its value using that function also"
   ]
  },
  {
   "cell_type": "code",
   "execution_count": 11,
   "metadata": {
    "execution": {
     "iopub.execute_input": "2021-12-11T11:00:38.758741Z",
     "iopub.status.busy": "2021-12-11T11:00:38.758474Z",
     "iopub.status.idle": "2021-12-11T11:00:38.762182Z",
     "shell.execute_reply": "2021-12-11T11:00:38.761618Z",
     "shell.execute_reply.started": "2021-12-11T11:00:38.758716Z"
    },
    "id": "e0BDQ-ccrP42"
   },
   "outputs": [],
   "source": [
    "#### Observe every output from here onwords #####\n",
    "# defining a global variable\n",
    "global_variable = 'variable outside of function'\n",
    "\n",
    "# defining function\n",
    "def random_function():\n",
    "    # accessing variable which is outside of this function\n",
    "    return global_variable"
   ]
  },
  {
   "cell_type": "code",
   "execution_count": 12,
   "metadata": {
    "colab": {
     "base_uri": "https://localhost:8080/",
     "height": 38
    },
    "execution": {
     "iopub.execute_input": "2021-12-11T11:00:58.33357Z",
     "iopub.status.busy": "2021-12-11T11:00:58.33313Z",
     "iopub.status.idle": "2021-12-11T11:00:58.337597Z",
     "shell.execute_reply": "2021-12-11T11:00:58.337038Z",
     "shell.execute_reply.started": "2021-12-11T11:00:58.333513Z"
    },
    "id": "2hYmUr5BrP42",
    "outputId": "409967fa-7156-418e-c19d-4b9eec029fd9"
   },
   "outputs": [
    {
     "data": {
      "text/plain": [
       "'variable outside of function'"
      ]
     },
     "execution_count": 12,
     "metadata": {},
     "output_type": "execute_result"
    }
   ],
   "source": [
    "random_function()"
   ]
  },
  {
   "cell_type": "markdown",
   "metadata": {
    "id": "w7AB55isrP42"
   },
   "source": [
    "`See we can acess the data of golbal variable from Inside of the Function`\n",
    "\n",
    "# **`=> Let's see what will happen if we try to change value of global variable from Inside of the Function`**"
   ]
  },
  {
   "cell_type": "code",
   "execution_count": 88,
   "metadata": {
    "execution": {
     "iopub.execute_input": "2021-12-11T11:08:27.657115Z",
     "iopub.status.busy": "2021-12-11T11:08:27.656836Z",
     "iopub.status.idle": "2021-12-11T11:08:27.661916Z",
     "shell.execute_reply": "2021-12-11T11:08:27.661004Z",
     "shell.execute_reply.started": "2021-12-11T11:08:27.657086Z"
    },
    "id": "1cOFox6FrP43"
   },
   "outputs": [],
   "source": [
    "#### Observe every output from here onwords #####\n",
    "# defining a global variable\n",
    "global_variable = 'variable outside of function'\n",
    "\n",
    "# defining function\n",
    "def random_function():\n",
    "    # changing value of global variable from inside of the function\n",
    "    global_variable = 'changing variable outside of function from inside of function'\n",
    "    # accessing variable which is outside of this function\n",
    "    return global_variable"
   ]
  },
  {
   "cell_type": "code",
   "execution_count": 13,
   "metadata": {
    "colab": {
     "base_uri": "https://localhost:8080/"
    },
    "execution": {
     "iopub.execute_input": "2021-12-11T11:32:36.29647Z",
     "iopub.status.busy": "2021-12-11T11:32:36.296167Z",
     "iopub.status.idle": "2021-12-11T11:32:36.300653Z",
     "shell.execute_reply": "2021-12-11T11:32:36.30002Z",
     "shell.execute_reply.started": "2021-12-11T11:32:36.29644Z"
    },
    "id": "8ScwL6OUrP43",
    "outputId": "e26b52e1-1627-493b-b808-64c656e91562"
   },
   "outputs": [
    {
     "name": "stdout",
     "output_type": "stream",
     "text": [
      "variable outside of function\n",
      "variable outside of function\n"
     ]
    }
   ],
   "source": [
    "print(random_function())\n",
    "print(global_variable)"
   ]
  },
  {
   "cell_type": "code",
   "execution_count": null,
   "metadata": {},
   "outputs": [],
   "source": []
  },
  {
   "cell_type": "code",
   "execution_count": null,
   "metadata": {},
   "outputs": [],
   "source": []
  }
 ],
 "metadata": {
  "colab": {
   "collapsed_sections": [
    "slh282AprP4M",
    "W-7tOm5CrP4P",
    "7Mo7XNVNrP4W",
    "_jF5-7_PrP4e",
    "fI6TbJ9IrP4e",
    "kPw6N8X_rP45"
   ],
   "provenance": []
  },
  "kernelspec": {
   "display_name": "Python 3",
   "language": "python",
   "name": "python3"
  },
  "language_info": {
   "codemirror_mode": {
    "name": "ipython",
    "version": 3
   },
   "file_extension": ".py",
   "mimetype": "text/x-python",
   "name": "python",
   "nbconvert_exporter": "python",
   "pygments_lexer": "ipython3",
   "version": "3.10.8"
  }
 },
 "nbformat": 4,
 "nbformat_minor": 1
}
